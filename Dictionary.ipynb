{
 "cells": [
  {
   "cell_type": "code",
   "execution_count": null,
   "id": "09944fe2",
   "metadata": {},
   "outputs": [],
   "source": [
    "dict={\n",
    "    \"Fa20-bce-051\":[\"ALI\",\n",
    "           \n",
    "    \n",
    "}"
   ]
  },
  {
   "cell_type": "code",
   "execution_count": 1,
   "id": "cafbc0c1",
   "metadata": {},
   "outputs": [
    {
     "name": "stdout",
     "output_type": "stream",
     "text": [
      "Enter the number of records you want to create: 2\n",
      "Enter details for student 1:\n",
      "Registration Number: fa20-bce-051\n",
      "Name: anas\n",
      "Email: fa20-bce-051@cuilahore.edu.pk\n",
      "Gender: male\n",
      "Enter details for student 2:\n",
      "Registration Number: fa20-bce-048\n",
      "Name: faheem\n",
      "Email: fa20-bce-048@cuilahore.edu.pk\n",
      "Gender: male\n",
      "\n",
      "List of student records:\n",
      "{'Registration Number': 'fa20-bce-051', 'Name': 'anas', 'Email': 'fa20-bce-051@cuilahore.edu.pk', 'Gender': 'male'}\n",
      "{'Registration Number': 'fa20-bce-048', 'Name': 'faheem', 'Email': 'fa20-bce-048@cuilahore.edu.pk', 'Gender': 'male'}\n"
     ]
    }
   ],
   "source": [
    "# Initialize an empty list to store the dictionaries\n",
    "student_records = []\n",
    "\n",
    "# Define the number of records you want to create\n",
    "num_records = int(input(\"Enter the number of records you want to create: \"))\n",
    "\n",
    "# Loop to collect user input and create dictionaries\n",
    "for i in range(num_records):\n",
    "    print(f\"Enter details for student {i + 1}:\")\n",
    "    registration_number = input(\"Registration Number: \")\n",
    "    name = input(\"Name: \")\n",
    "    email = input(\"Email: \")\n",
    "    gender = input(\"Gender: \")\n",
    "    \n",
    "    # Create a dictionary for the current student\n",
    "    student_dict = {\n",
    "        'Registration Number': registration_number,\n",
    "        'Name': name,\n",
    "        'Email': email,\n",
    "        'Gender': gender\n",
    "    }\n",
    "    \n",
    "    # Append the dictionary to the list\n",
    "    student_records.append(student_dict)\n",
    "\n",
    "# Print the list of student records\n",
    "print(\"\\nList of student records:\")\n",
    "for student in student_records:\n",
    "    print(student)\n"
   ]
  },
  {
   "cell_type": "code",
   "execution_count": null,
   "id": "a144c209",
   "metadata": {},
   "outputs": [],
   "source": []
  }
 ],
 "metadata": {
  "kernelspec": {
   "display_name": "Python 3 (ipykernel)",
   "language": "python",
   "name": "python3"
  },
  "language_info": {
   "codemirror_mode": {
    "name": "ipython",
    "version": 3
   },
   "file_extension": ".py",
   "mimetype": "text/x-python",
   "name": "python",
   "nbconvert_exporter": "python",
   "pygments_lexer": "ipython3",
   "version": "3.11.4"
  }
 },
 "nbformat": 4,
 "nbformat_minor": 5
}
